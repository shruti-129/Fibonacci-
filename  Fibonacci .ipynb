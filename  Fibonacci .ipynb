{
 "cells": [
  {
   "cell_type": "code",
   "execution_count": null,
   "metadata": {},
   "outputs": [],
   "source": [
    "# python program to check if x is a perfect square \n",
    "import math \n",
    "\n",
    "# A utility function that returns true if x is perfect square \n",
    "def isPerfectSquare(x): \n",
    "\ts = int(math.sqrt(x)) \n",
    "\treturn s*s == x \n",
    "\n",
    "# Returns true if n is a Fibinacci Number, else false \n",
    "def isFibonacci(n): \n",
    "\n",
    "\t# n is Fibinacci if one of 5*n*n + 4 or 5*n*n - 4 or both \n",
    "\t# is a perferct square \n",
    "\treturn isPerfectSquare(5*n*n + 4) or isPerfectSquare(5*n*n - 4) \n",
    "\t\n",
    "# A utility function to test above functions \n",
    "for i in range(1,11): \n",
    "\tif (isFibonacci(i) == True): \n",
    "\t\tprint (i,\"is a Fibonacci Number\")\n",
    "\telse: \n",
    "\t\tprint (i,\"is a not Fibonacci Number \")\n"
   ]
  }
 ],
 "metadata": {
  "kernelspec": {
   "display_name": "Python 3",
   "language": "python",
   "name": "python3"
  },
  "language_info": {
   "codemirror_mode": {
    "name": "ipython",
    "version": 3
   },
   "file_extension": ".py",
   "mimetype": "text/x-python",
   "name": "python",
   "nbconvert_exporter": "python",
   "pygments_lexer": "ipython3",
   "version": "3.7.6"
  }
 },
 "nbformat": 4,
 "nbformat_minor": 4
}
